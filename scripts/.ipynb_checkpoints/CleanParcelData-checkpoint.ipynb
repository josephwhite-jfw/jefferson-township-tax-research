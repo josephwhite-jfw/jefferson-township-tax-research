{
 "cells": [
  {
   "cell_type": "code",
   "execution_count": 2,
   "id": "72ca41b6-5dd8-4e5b-9339-c1795b682ceb",
   "metadata": {},
   "outputs": [
    {
     "name": "stdout",
     "output_type": "stream",
     "text": [
      "📁 Found 11 parcel files\n",
      "✅ Matched 6347 rows → C:\\Users\\JosephWhite\\Documents\\JeffersonTownshipTaxResearch\\data\\Matched_Parcel_TIF_Only.csv\n"
     ]
    }
   ],
   "source": [
    "import pandas as pd\n",
    "import re\n",
    "from pathlib import Path\n",
    "\n",
    "# --- Paths ---\n",
    "base_path = Path(r\"C:\\Users\\JosephWhite\\Documents\\JeffersonTownshipTaxResearch\")\n",
    "data_raw = base_path / \"data-raw\"\n",
    "data_output = base_path / \"data\"\n",
    "data_output.mkdir(exist_ok=True)\n",
    "\n",
    "# --- Step 1: Find all parcel files ---\n",
    "parcel_files = sorted(data_raw.glob(\"Parcel20*.csv\"))\n",
    "print(f\"📁 Found {len(parcel_files)} parcel files\")\n",
    "\n",
    "# --- Step 2: Load and process each parcel file ---\n",
    "def process_parcel_file(filepath):\n",
    "    year_match = re.search(r\"(\\d{4})\", filepath.stem)\n",
    "    year = year_match.group(1) if year_match else None\n",
    "\n",
    "    df = pd.read_csv(filepath, dtype=str, on_bad_lines='skip')\n",
    "    df = df[[\"PARCEL ID\", \"TIFMLND\", \"TIFMBLD\"]].copy()\n",
    "    df = df.rename(columns={\"PARCEL ID\": \"ParcelNumber\"})\n",
    "    df[\"ParcelNumber\"] = df[\"ParcelNumber\"].str.replace(\"-\", \"\", regex=False)\n",
    "    df[\"TaxYear\"] = year\n",
    "    return df\n",
    "\n",
    "parcel_dfs = [process_parcel_file(fp) for fp in parcel_files]\n",
    "combined_parcels = pd.concat(parcel_dfs, ignore_index=True)\n",
    "\n",
    "# --- Step 3: Load and normalize TIF dataset ---\n",
    "tif_path = data_output / \"Jefferson_TIF_Details_All_Years.csv\"\n",
    "tif = pd.read_csv(tif_path, dtype=str)\n",
    "tif = tif.copy()\n",
    "tif[\"ParcelNumber\"] = tif[\"ParcelNumber\"].str.replace(\"-00$\", \"\", regex=True)\n",
    "tif[\"ParcelNumber\"] = tif[\"ParcelNumber\"].str.replace(\"-\", \"\", regex=False)\n",
    "tif[\"TaxYear\"] = tif[\"TaxYear\"].astype(str)\n",
    "\n",
    "# --- Step 4: Inner join on ParcelNumber + TaxYear ---\n",
    "matched = pd.merge(\n",
    "    tif,\n",
    "    combined_parcels,\n",
    "    on=[\"ParcelNumber\", \"TaxYear\"],\n",
    "    how=\"inner\"\n",
    ")\n",
    "\n",
    "# --- Step 5: Save matched output ---\n",
    "output_path = data_output / \"Matched_Parcel_TIF_Only.csv\"\n",
    "matched.to_csv(output_path, index=False)\n",
    "print(f\"✅ Matched {len(matched)} rows → {output_path}\")"
   ]
  },
  {
   "cell_type": "code",
   "execution_count": 4,
   "id": "d8fa97ee-8bd7-47db-bc4c-e3330962b715",
   "metadata": {},
   "outputs": [
    {
     "name": "stdout",
     "output_type": "stream",
     "text": [
      "⚠️ Saved 23 unmatched TIF rows to C:\\Users\\JosephWhite\\Documents\\JeffersonTownshipTaxResearch\\data\\Unmatched_TIF_Records.csv\n"
     ]
    }
   ],
   "source": [
    "import pandas as pd\n",
    "from pathlib import Path\n",
    "\n",
    "# Set file paths\n",
    "base_path = Path(r\"C:\\Users\\JosephWhite\\Documents\\JeffersonTownshipTaxResearch\")\n",
    "data_output = base_path / \"data\"\n",
    "\n",
    "# Load TIF and Matched files\n",
    "tif_df = pd.read_csv(data_output / \"Jefferson_TIF_Details_All_Years.csv\", dtype=str)\n",
    "matched_df = pd.read_csv(data_output / \"Matched_Parcel_TIF_Only.csv\", dtype=str)\n",
    "\n",
    "# Normalize ParcelNumber and TaxYear in both\n",
    "def normalize(df):\n",
    "    df[\"ParcelNumber\"] = df[\"ParcelNumber\"].str.replace(\"-00$\", \"\", regex=True)\n",
    "    df[\"ParcelNumber\"] = df[\"ParcelNumber\"].str.replace(\"-\", \"\", regex=False)\n",
    "    df[\"TaxYear\"] = df[\"TaxYear\"].astype(str)\n",
    "    return df\n",
    "\n",
    "tif_df = normalize(tif_df)\n",
    "matched_df = normalize(matched_df)\n",
    "\n",
    "# Compute unmatched rows\n",
    "matched_keys = set(zip(matched_df[\"ParcelNumber\"], matched_df[\"TaxYear\"]))\n",
    "unmatched_df = tif_df[tif_df.apply(\n",
    "    lambda row: (row[\"ParcelNumber\"], row[\"TaxYear\"]) not in matched_keys, axis=1\n",
    ")]\n",
    "\n",
    "# Save output\n",
    "unmatched_path = data_output / \"Unmatched_TIF_Records.csv\"\n",
    "unmatched_df.to_csv(unmatched_path, index=False)\n",
    "print(f\"⚠️ Saved {len(unmatched_df)} unmatched TIF rows to {unmatched_path}\")"
   ]
  },
  {
   "cell_type": "code",
   "execution_count": null,
   "id": "e13a2582-b9d2-4b1f-ae0a-38fe74f12c7c",
   "metadata": {},
   "outputs": [],
   "source": []
  }
 ],
 "metadata": {
  "kernelspec": {
   "display_name": "Python 3 (ipykernel)",
   "language": "python",
   "name": "python3"
  },
  "language_info": {
   "codemirror_mode": {
    "name": "ipython",
    "version": 3
   },
   "file_extension": ".py",
   "mimetype": "text/x-python",
   "name": "python",
   "nbconvert_exporter": "python",
   "pygments_lexer": "ipython3",
   "version": "3.13.2"
  }
 },
 "nbformat": 4,
 "nbformat_minor": 5
}
